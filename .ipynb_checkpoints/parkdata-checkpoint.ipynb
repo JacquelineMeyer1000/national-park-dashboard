{
 "cells": [
  {
   "cell_type": "code",
   "execution_count": null,
   "metadata": {},
   "outputs": [],
   "source": [
    "import os\n",
    "import pandas as pd"
   ]
  },
  {
   "cell_type": "code",
   "execution_count": null,
   "metadata": {},
   "outputs": [],
   "source": [
    "path_xlsx = os.getcwd()\n",
    "files_xlsx = os.listdir(path_xlsx+\"\\\\data\")\n",
    "\n",
    "filepath_xlsx = [];\n",
    "for f in files_xlsx:\n",
    "    if f[-4:] == 'xlsx':\n",
    "        filepath_xlsx.append(f'data\\{f}');\n",
    "                    \n",
    "filepath_xlsx"
   ]
  },
  {
   "cell_type": "code",
   "execution_count": null,
   "metadata": {},
   "outputs": [],
   "source": [
    "nps_df = pd.DataFrame()\n",
    "nps_df.iloc[0:0]\n",
    "\n",
    "nps_df"
   ]
  },
  {
   "cell_type": "code",
   "execution_count": null,
   "metadata": {},
   "outputs": [],
   "source": [
    "for f in filepath_xlsx:\n",
    "    nps_data = pd.read_excel(f, 'Current Year Monthly and Annual', header=11, skipfooter=7)\n",
    "    if len(nps_df) == 0:\n",
    "        nps_df = nps_df.append(nps_data)\n",
    "    else:\n",
    "        nps_df = nps_df.merge(nps_data, how=\"inner\", on=\"Park\")"
   ]
  },
  {
   "cell_type": "code",
   "execution_count": null,
   "metadata": {},
   "outputs": [],
   "source": [
    "list(nps_df)"
   ]
  },
  {
   "cell_type": "code",
   "execution_count": null,
   "metadata": {},
   "outputs": [],
   "source": [
    "clean_nps_df = nps_df[['Park'\n",
    "                       ,'MAR 2021', 'MAR 2020'\n",
    "                       ,'FEB 2021', 'FEB 2020'\n",
    "                       ,'JAN 2021', 'JAN 2020'\n",
    "                       ,'DEC 2020', 'DEC 2019'\n",
    "                       ,'NOV 2020', 'NOV 2019'\n",
    "                       ,'OCT 2020', 'OCT 2019'\n",
    "                       ,'SEP 2020', 'SEP 2019'\n",
    "                       ,'AUG 2020', 'AUG 2019'\n",
    "                       ,'JUL 2020', 'JUL 2019'\n",
    "                       ,'JUN 2020', 'JUN 2019'\n",
    "                       ,'MAY 2020', 'MAY 2019'\n",
    "                       ,'APR 2019','APR 2020']]\n",
    "\n",
    "clean_nps_df"
   ]
  },
  {
   "cell_type": "code",
   "execution_count": null,
   "metadata": {},
   "outputs": [],
   "source": []
  }
 ],
 "metadata": {
  "kernelspec": {
   "display_name": "Python 3",
   "language": "python",
   "name": "python3"
  },
  "language_info": {
   "codemirror_mode": {
    "name": "ipython",
    "version": 3
   },
   "file_extension": ".py",
   "mimetype": "text/x-python",
   "name": "python",
   "nbconvert_exporter": "python",
   "pygments_lexer": "ipython3",
   "version": "3.6.10"
  }
 },
 "nbformat": 4,
 "nbformat_minor": 4
}
